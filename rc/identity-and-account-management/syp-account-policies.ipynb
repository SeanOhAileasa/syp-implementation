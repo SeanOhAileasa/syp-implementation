{
 "cells": [
  {
   "cell_type": "markdown",
   "id": "d4ee9e4b",
   "metadata": {},
   "source": [
    "***\n",
    "< [Home](https://github.com/SeanOhAileasa) | [README](https://github.com/SeanOhAileasa/syp-implementation/blob/main/README.md) >\n",
    "\n",
    "## CompTIA Security+ - Course Material 2022\n",
    "###### Topic: ``Account Policies``\n",
    "***"
   ]
  },
  {
   "cell_type": "markdown",
   "id": "b82b07fb",
   "metadata": {},
   "source": [
    "Course material for the ``CompTIA Security+`` module of the ``ICT Associate Apprenticeship (Cybersecurity)`` programme."
   ]
  },
  {
   "cell_type": "markdown",
   "id": "e7228f57",
   "metadata": {},
   "source": [
    "<a id=\"top\"></a>\n",
    "***\n",
    "## Table of Contents\n",
    "***"
   ]
  },
  {
   "cell_type": "markdown",
   "id": "c2bb5e7b",
   "metadata": {},
   "source": [
    "### [Account Policies](#a) <br/><br/>\n",
    "\n",
    "- [Perform Routine Audits](#b) <br/><br/>\n",
    "    - [Auditing](#c) <br/><br/>\n",
    "- [Password Complexity and Length](#d) <br/><br/>\n",
    "- [Account Lockout and Disablement](#e) <br/><br/>\n",
    "- [Location-based Policies](#f) \n",
    "<hr width=50%;>"
   ]
  },
  {
   "cell_type": "markdown",
   "id": "bf2b95e2",
   "metadata": {},
   "source": [
    "***\n",
    "## END"
   ]
  },
  {
   "cell_type": "markdown",
   "id": "34aa6eb5",
   "metadata": {},
   "source": [
    "< [Table of Contents](#top) | [References](#references) >\n",
    "<a id=\"a\"></a>\n",
    "***\n",
    "### Account Policies\n",
    "***"
   ]
  },
  {
   "cell_type": "markdown",
   "id": "f8db3cc3",
   "metadata": {},
   "source": [
    "When an administrator is configuring a user on a system, there are many different policies to consider, for example, the administrator needs to configure a username and password for that system but there are a number of other considerations associated with the account policies as well - for example, there may be specific password policies on the system or we may require additional authentication if the user is connecting from somewhere outside of the building.\n",
    "\n",
    "Once the user logs in, there are a number of other policies that have to be considered in order to keep all of the data safe on the system."
   ]
  },
  {
   "cell_type": "markdown",
   "id": "84b00380",
   "metadata": {},
   "source": [
    "< [Table of Contents](#top) | [References](#references) >\n",
    "<a id=\"b\"></a>\n",
    "***\n",
    "###### Perform Routine Audits - [Police Yourself] - [Things Change Quickly] - [Automatic Identification]\n",
    "***"
   ]
  },
  {
   "cell_type": "markdown",
   "id": "823de42c",
   "metadata": {},
   "source": [
    "It’s common in most environments to perform periodic audits to make sure that all of the policies that you’ve configured are indeed being used on the systems. \n",
    "\n",
    "Once a system is set up or a series of accounts are created, it’s remarkable how quickly things can change, so it’s always useful to have periodic audits that are scheduled throughout the year.\n",
    "\n",
    "Instead of waiting for an audit, there may be a way to have an alert occur if a particularly important policy isn’t followed - might have a log file analyzer that can go through the entire logs for all of your systems and if any high profile or high security issues were to occur, you can be informed immediately."
   ]
  },
  {
   "cell_type": "markdown",
   "id": "b4da2efe",
   "metadata": {},
   "source": [
    "< [Table of Contents](#top) | [References](#references) >\n",
    "<a id=\"c\"></a>\n",
    "***\n",
    "###### Perform Routine Audits - Auditing - [Permission Auditing] - [Usage Auditing]\n",
    "***"
   ]
  },
  {
   "cell_type": "markdown",
   "id": "63610801",
   "metadata": {},
   "source": [
    "> Some of the things to look at during an audit, are there permissions that are being used on the system? \n",
    "\n",
    "Everyone should have permissions that are specific to the job that they’re doing and the permission should not go beyond the scope of their particular role.\n",
    "\n",
    "In an environments where everyone on the network is assigned administrator access, then an audit would show that the permissions were definitely not set up properly and that changes would have to be made to everyone’s log in - this is a process that should occur regularly, so you might want to set up a one month, three month, and six month checkup for your network.\n",
    "\n",
    "Once we have the user policies in place, it would be useful to see how those policies were being followed - might want to look at different resources on the network and determine how those resources are being used - this might also be a good time to look at the applications in use and make sure that they’re accessing the data in a way that would be considered secure."
   ]
  },
  {
   "cell_type": "markdown",
   "id": "7b10c3a2",
   "metadata": {},
   "source": [
    "< [Table of Contents](#top) | [References](#references) >\n",
    "<a id=\"d\"></a>\n",
    "***\n",
    "###### Password Complexity and Length - [Make Strong] - [Increase Entropy] - [At Least 8 Characters] - [Prevent Reuse]\n",
    "***"
   ]
  },
  {
   "cell_type": "markdown",
   "id": "58874587",
   "metadata": {},
   "source": [
    "The implementation of user passwords on a system is a topic that is of great debate in the industry - there are many ideas and proposals on what the best password implementation might be, so you may want to check internally with your organization and see what the best set of policies would be for you.\n",
    "\n",
    "The idea behind setting these password policies is to have a password that is considered to be strong - this means that it would resist being guessed by someone, or have someone perform a brute force attack and be able to reverse engineer what that password is. \n",
    "\n",
    "To accomplish this, we need to increase the entropy associated with this password - password entropy is a way to measure just how unpredictable a password might be, so we don’t want to use any single words and we don’t want to use any passwords that might be obvious, such as the name of your dog and if you use lowercase letters, uppercase letters, and special characters all at the same time in the password, it makes it much more difficult to guess and much more difficult to brute force.\n",
    "\n",
    "This doesn’t mean that you should start replacing letters with numbers that are very similar, for example, you would not replace a ``0`` with an ``O`` or replace the letter ``T`` with the number ``7``. The attackers have brute force systems that are already designed to replace these letters with these numbers because this is such a common thing for people to do. Instead, you want to use a random set of letters and numbers and you want to be sure that it’s not something that could be guessed by a third-party piece of software.\n",
    "\n",
    "The minimum password size is generally considered to be eight characters, but a longer phrase or series of words is an even better idea for a password. \n",
    "\n",
    "If you’ve ever been prompted to change your password and you tried to use a password that was used previously, you may have seen that the password was not able to be reused - this is a good best practice that prevents somebody from using an older password that could possibly have already been identified by an attacker."
   ]
  },
  {
   "cell_type": "markdown",
   "id": "1ce9ff85",
   "metadata": {},
   "source": [
    "< [Table of Contents](#top) | [References](#references) >\n",
    "<a id=\"e\"></a>\n",
    "***\n",
    "###### Account Lockout and Disablement -[Incorrect Passwords cause Lockout] - [Disabling Accounts]\n",
    "***"
   ]
  },
  {
   "cell_type": "markdown",
   "id": "921f3884",
   "metadata": {},
   "source": [
    "One way to prevent an attacker from using a live system to perform a brute force attack would be to implement an account lockout policy - this means that after a certain number of incorrect passwords, the account is automatically locked and even if the attacker was to eventually find the correct password, they would have no idea because the system has already locked that account and made it so that it would not be accessible.\n",
    "\n",
    "This is, undoubtedly, the norm for most organizations accounts - that way they can be assured that no one is performing a brute force attack on their live systems - this can be especially problematic if the attackers are trying to brute force a service account because then the services that rely on that account could be locked out and you would have to manually go in and re-enable that service. Unlike a user account, when a service account is locked, it could affect a large number of people. An administrator to disabled the brute force protection and account lockout policy for a service account, is generally not considered a good best practice - probably want to know when someone is performing a brute force attack and if someone locks that account, then you would have at least an idea that particular system is under attack.\n",
    "\n",
    "It’s also very common if someone leaves the organization or moves to a different part of the company that instead of deleting their account, we would simply disable the account - this means that no one would be able to log in to that account, but all of the files and all of the protected information associated with that account would stay in place on that service - this is especially important if the user has been encrypting data using their account information and you want to save those decryption keys so that the next person who gets that job will have access to the same data."
   ]
  },
  {
   "cell_type": "markdown",
   "id": "d87809fd",
   "metadata": {},
   "source": [
    "< [Table of Contents](#top) | [References](#references) >\n",
    "<a id=\"f\"></a>\n",
    "***\n",
    "###### Location-based Policies - [Network Location] - [Geolocation] - [Geofencing] - [Geotagging] - [Location-based Access Rules]\n",
    "***"
   ]
  },
  {
   "cell_type": "markdown",
   "id": "f17931f9",
   "metadata": {},
   "source": [
    "Can also use someone’s location to be able to set policies on whether they might have access to a system - this could be done with IP addresses or IP subsetting, especially if it’s on an IP subnet that’s inside of our building but once someone leaves the building and they’re outside of our control, we may not be able to use network location as one of our policies.\n",
    "\n",
    "Instead, we may want to take advantage of the geolocation for that user - this can use global positioning system coordinates - might take advantage of the ``802.11`` wireless network that someone is connected to or, in some cases, use the IP address of where someone may be connecting from. Each of these have different levels of accuracy associated with them, but combined together, you might get a pretty good idea of where someone might be.\n",
    "\n",
    "Might combine this location with a policy that uses geofencing. Geofencing allows you to set a policy on where a user might be physically located, so if someone is inside the building, there may be a set of policies associated with their account but if they are outside the building or if they’re in another city, there may be a completely different set of policies.\n",
    "\n",
    "Might also take advantage of geotagging, which is location information that is added to the metadata of documents that a user is storing, so a user might store an image or they might store a movie on their mobile device and within that image or that movie is metadata that has GPS coordinates of where that user was when they took that picture or made that video.\n",
    "\n",
    "Can take all of these different location based policies and combine them together into one single permission, for example, you can check an IP address and see that someone trying to log in is associated with an IP address block that is assigned to Russia - would notice that we don’t have an office in Russia and perhaps more importantly, that user was in Colorado Springs just an hour ago. This makes it very difficult for us to believe that this user could now be somehow located in Russia - this means this user would not be granted permission to log in and we may have additional security controls in place because we may believe that this user’s account could be compromised.\n",
    "\n",
    "Might also combine this with time based policies - there may be, for example, a lab that should only be used during normal working hours but if someone tries to access that lab at 3:00 in the morning, we might have an alert fire to tell us that something unusual is occurring and we would prevent access for that user."
   ]
  },
  {
   "cell_type": "markdown",
   "id": "2cc20932",
   "metadata": {},
   "source": [
    "***\n",
    "## END"
   ]
  },
  {
   "cell_type": "markdown",
   "id": "e0e42d51",
   "metadata": {},
   "source": [
    "< [Table of Contents](#top) >\n",
    "<a id=\"references\"></a>\n",
    "***\n",
    "## References\n",
    "***"
   ]
  },
  {
   "cell_type": "markdown",
   "id": "f8aaecbc",
   "metadata": {},
   "source": [
    "J. \"Professor\" Messer, \"CompTIA Security+ (SY0-601) Course Notes,\" [professormesser.com](https://web.archive.org/web/20220521181010/https://www.professormesser.com/security-plus/sy0-601/sy0-601-video/sy0-601-comptia-security-plus-course/), September 2021."
   ]
  },
  {
   "cell_type": "markdown",
   "id": "b33c372a",
   "metadata": {},
   "source": [
    "***\n",
    "## END"
   ]
  },
  {
   "cell_type": "markdown",
   "id": "e5961b4d",
   "metadata": {},
   "source": [
    "< [Table of Contents](#top) | [References](#references) >\n",
    "<a id=\"appendix\"></a>\n",
    "***\n",
    "## Appendix\n",
    "***"
   ]
  },
  {
   "cell_type": "markdown",
   "id": "00d82a82",
   "metadata": {},
   "source": [
    "***\n",
    "## END"
   ]
  },
  {
   "cell_type": "code",
   "execution_count": 1,
   "id": "706756a2",
   "metadata": {},
   "outputs": [
    {
     "name": "stderr",
     "output_type": "stream",
     "text": [
      "C:\\Users\\SeanOhAileasa\\AppData\\Local\\Temp\\ipykernel_9372\\1322614208.py:1: DeprecationWarning: Importing display from IPython.core.display is deprecated since IPython 7.14, please import from IPython display\n",
      "  from IPython.core.display import display,HTML\n"
     ]
    },
    {
     "data": {
      "text/html": [
       "<style>.container { width:100% !important; }</style>"
      ],
      "text/plain": [
       "<IPython.core.display.HTML object>"
      ]
     },
     "metadata": {},
     "output_type": "display_data"
    }
   ],
   "source": [
    "from IPython.core.display import display,HTML\n",
    "display(HTML(\"<style>.container { width:100% !important; }</style>\"))"
   ]
  },
  {
   "cell_type": "markdown",
   "id": "899c1783",
   "metadata": {},
   "source": [
    "# END JUPYTER NOTEBOOK"
   ]
  }
 ],
 "metadata": {
  "kernelspec": {
   "display_name": "Python 3 (ipykernel)",
   "language": "python",
   "name": "python3"
  },
  "language_info": {
   "codemirror_mode": {
    "name": "ipython",
    "version": 3
   },
   "file_extension": ".py",
   "mimetype": "text/x-python",
   "name": "python",
   "nbconvert_exporter": "python",
   "pygments_lexer": "ipython3",
   "version": "3.9.12"
  }
 },
 "nbformat": 4,
 "nbformat_minor": 5
}
