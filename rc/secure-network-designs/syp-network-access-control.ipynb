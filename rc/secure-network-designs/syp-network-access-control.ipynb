{
 "cells": [
  {
   "cell_type": "markdown",
   "id": "d4ee9e4b",
   "metadata": {},
   "source": [
    "***\n",
    "< [Home](https://github.com/SeanOhAileasa) | [README](https://github.com/SeanOhAileasa/syp-implementation/blob/main/README.md) >\n",
    "\n",
    "## CompTIA Security+ - Course Material 2022\n",
    "###### Topic: ``Network Access Control``\n",
    "***"
   ]
  },
  {
   "cell_type": "markdown",
   "id": "b82b07fb",
   "metadata": {},
   "source": [
    "Course material for the ``CompTIA Security+`` module of the ``ICT Associate Apprenticeship (Cybersecurity)`` programme."
   ]
  },
  {
   "cell_type": "markdown",
   "id": "e7228f57",
   "metadata": {},
   "source": [
    "<a id=\"top\"></a>\n",
    "***\n",
    "## Table of Contents\n",
    "***"
   ]
  },
  {
   "cell_type": "markdown",
   "id": "c2bb5e7b",
   "metadata": {},
   "source": [
    "### [Network Access Control](#a) <br/><br/>\n",
    "\n",
    "- [Edge Control](#b) | [Access Control](#b) <br/><br/>\n",
    "- [Posture Assessment](#c) <br/><br/>\n",
    "    - [Health Checks](#d) <br/><br/>\n",
    "        - [Fail](#e) \n",
    "<hr width=50%;>"
   ]
  },
  {
   "cell_type": "markdown",
   "id": "bf2b95e2",
   "metadata": {},
   "source": [
    "***\n",
    "## END"
   ]
  },
  {
   "cell_type": "markdown",
   "id": "34aa6eb5",
   "metadata": {},
   "source": [
    "< [Table of Contents](#top) | [References](#references) >\n",
    "<a id=\"a\"></a>\n",
    "***\n",
    "### Network Access Control\n",
    "***"
   ]
  },
  {
   "cell_type": "markdown",
   "id": "26e7a81a",
   "metadata": {},
   "source": [
    "There are a number of different ways to control access to your network. "
   ]
  },
  {
   "cell_type": "markdown",
   "id": "73aac6fd",
   "metadata": {},
   "source": [
    "< [Table of Contents](#top) | [References](#references) >\n",
    "<a id=\"b\"></a>\n",
    "***\n",
    "###### Edge Control\n",
    "***"
   ]
  },
  {
   "cell_type": "markdown",
   "id": "cff992a2",
   "metadata": {},
   "source": [
    "When we’re setting up a firewall on the edge of our network, we’re usually connecting our internal network to the internet.\n",
    "\n",
    "This edge connection is usually managed using rules that we put inside of that firewall and generally, we set up rules inside the firewall, we test those rules and make sure they’re working and at that point, we don’t tend to make a lot of changes to the rules inside of that edge firewall."
   ]
  },
  {
   "cell_type": "markdown",
   "id": "6d6b73f0",
   "metadata": {},
   "source": [
    "< [Table of Contents](#top) | [References](#references) >\n",
    "<a id=\"b\"></a>\n",
    "***\n",
    "###### Access Control\n",
    "***"
   ]
  },
  {
   "cell_type": "markdown",
   "id": "da64dbc1",
   "metadata": {},
   "source": [
    "Access control approaches the idea of allowing or disallowing access to the network based on a number of different criteria and not just whether you’re on the edge of the network.\n",
    "\n",
    "Could be a user that’s on the inside of the network trying to access resources or you may be on the outside trying to access resources on the inside. \n",
    "\n",
    "These rules that we use for access control are also quite different than the rules we might have in a firewall. These rules may be based on a username, perhaps a group the user belongs to, where the user may be located, or the application in use. \n",
    "\n",
    "Unlike a firewall rule where changes don’t occur unless we go through a change control process, the access control rules can change dramatically at any time - can decide to allow or disallow access for a user or group of users and can change our security posture as needed."
   ]
  },
  {
   "cell_type": "markdown",
   "id": "b4da2efe",
   "metadata": {},
   "source": [
    "< [Table of Contents](#top) | [References](#references) >\n",
    "<a id=\"c\"></a>\n",
    "***\n",
    "###### Posture Assessment\n",
    "***"
   ]
  },
  {
   "cell_type": "markdown",
   "id": "44c6fde8",
   "metadata": {},
   "source": [
    "One of the challenges with allowing people access to the network is sometimes they’re using equipment that we did not provide to them - this would be a ``BYOD`` environment where you are ``Bringing Your Own Device``, so you might have your own phone - you might have your own tablet and you are connecting your device to the corporate network. \n",
    "\n",
    "The security team knows that we’ll be using your equipment to connect to the network but we also want to protect what’s in the network already, so we’re concerned about malware that may already be on these devices or perhaps the devices aren’t even running any anti-malware software or it could be that the applications that are already installed on these devices are applications that we really don’t want to run inside of the corporate network. \n",
    "\n",
    "It would be useful, then, to know exactly what the status is of these devices, so when someone connects to the network, we can perform a posture assessment - this will check the device to see if, perhaps, it’s already a device that we’ve configured and is trusted by our organization - can see if it’s running anti-virus - if so:\n",
    "\n",
    "> Which type of anti-virus is it running? \n",
    "\n",
    "> What version of software is it running? \n",
    "\n",
    "> Are there any corporate applications already installed on this device? \n",
    "\n",
    "> Or will we need to install additional applications on that device? \n",
    "\n",
    "> Is this a mobile device like a phone or laptop? And if so, is the information stored on this device stored with encryption?\n",
    "\n",
    "This requirement is not specific to any particular operating system, whether you’re running Windows or Mac OS, iOS, or Android, you need to perform some type of posture assessment when these devices are connecting to the network. "
   ]
  },
  {
   "cell_type": "markdown",
   "id": "7b10c3a2",
   "metadata": {},
   "source": [
    "< [Table of Contents](#top) | [References](#references) >\n",
    "<a id=\"d\"></a>\n",
    "***\n",
    "###### Posture Assessment - Health Checks\n",
    "***"
   ]
  },
  {
   "cell_type": "markdown",
   "id": "fef6dce9",
   "metadata": {},
   "source": [
    "To be able to perform these posture assessments, we need to run some type of software on these devices that are connecting to the network, sometimes these are ``Persistent Agents``. \n",
    "\n",
    "We would install software onto the laptop or the mobile device and that software would always be on that device and run when we’re connecting to the network.\n",
    "\n",
    "This also means that we have to maintain that software and if there’s any updates, we have to push those updates out to all of those devices. \n",
    "\n",
    "An option that doesn’t require this much management overhead might be a ``Dissolvable Agent``, which means we’re not installing a permanent piece of software - this means that when we connect to the network, the software will run on that local device and perform that posture assessment - when that assessment is done, the software terminates and is no longer located on that machine.\n",
    "\n",
    "Some operating systems include Network Access Control as part of the operating system itself and no additional agent is required. \n",
    "\n",
    "In the case of Windows, for example, an ``Agentless NAC`` is integrated with ``Active Directory`` and it performs these checks when the system logs into the network and logs out of the network but this also means that you’re not able to schedule any of these health checks, so if you need additional functionality, you may require a persistent or dissolvable agent."
   ]
  },
  {
   "cell_type": "markdown",
   "id": "1ce9ff85",
   "metadata": {},
   "source": [
    "< [Table of Contents](#top) | [References](#references) >\n",
    "<a id=\"e\"></a>\n",
    "***\n",
    "###### Posture Assessment - Health Checks - Fail\n",
    "***"
   ]
  },
  {
   "cell_type": "markdown",
   "id": "928c5f71",
   "metadata": {},
   "source": [
    "Once the security team has configured the Network Access Control system with the minimum configuration allowed on the network, it can then begin evaluating the user’s connection when they begin to log in. \n",
    "\n",
    "It may be that a user is connecting to the network with a device that can’t meet the minimum requirements for these posture assessments. \n",
    "\n",
    "In that case, the device is not allowed access to the network and very often is put into a quarantine network that is specifically built for devices that don’t pass their health check.\n",
    "\n",
    "This gives the user a chance to install the software that might be needed to update their system to meet the minimum requirements of that posture assessment. \n",
    "\n",
    "Once the user feels that they’ve fixed all of these problems, they can try reconnecting to the network. The posture assessment will run again and if any problems are found, the process repeats itself - if all of the problems have been resolved, the user would then have access to the network."
   ]
  },
  {
   "cell_type": "markdown",
   "id": "2cc20932",
   "metadata": {},
   "source": [
    "***\n",
    "## END"
   ]
  },
  {
   "cell_type": "markdown",
   "id": "e0e42d51",
   "metadata": {},
   "source": [
    "< [Table of Contents](#top) >\n",
    "<a id=\"references\"></a>\n",
    "***\n",
    "## References\n",
    "***"
   ]
  },
  {
   "cell_type": "markdown",
   "id": "f8aaecbc",
   "metadata": {},
   "source": [
    "J. \"Professor\" Messer, \"CompTIA Security+ (SY0-601) Course Notes,\" [professormesser.com](https://web.archive.org/web/20220521181010/https://www.professormesser.com/security-plus/sy0-601/sy0-601-video/sy0-601-comptia-security-plus-course/), September 2021."
   ]
  },
  {
   "cell_type": "markdown",
   "id": "b33c372a",
   "metadata": {},
   "source": [
    "***\n",
    "## END"
   ]
  },
  {
   "cell_type": "markdown",
   "id": "e5961b4d",
   "metadata": {},
   "source": [
    "< [Table of Contents](#top) | [References](#references) >\n",
    "<a id=\"appendix\"></a>\n",
    "***\n",
    "## Appendix\n",
    "***"
   ]
  },
  {
   "cell_type": "markdown",
   "id": "00d82a82",
   "metadata": {},
   "source": [
    "***\n",
    "## END"
   ]
  },
  {
   "cell_type": "code",
   "execution_count": 1,
   "id": "706756a2",
   "metadata": {},
   "outputs": [
    {
     "name": "stderr",
     "output_type": "stream",
     "text": [
      "C:\\Users\\SeanOhAileasa\\AppData\\Local\\Temp\\ipykernel_3400\\1322614208.py:1: DeprecationWarning: Importing display from IPython.core.display is deprecated since IPython 7.14, please import from IPython display\n",
      "  from IPython.core.display import display,HTML\n"
     ]
    },
    {
     "data": {
      "text/html": [
       "<style>.container { width:100% !important; }</style>"
      ],
      "text/plain": [
       "<IPython.core.display.HTML object>"
      ]
     },
     "metadata": {},
     "output_type": "display_data"
    }
   ],
   "source": [
    "from IPython.core.display import display,HTML\n",
    "display(HTML(\"<style>.container { width:100% !important; }</style>\"))"
   ]
  },
  {
   "cell_type": "markdown",
   "id": "899c1783",
   "metadata": {},
   "source": [
    "# END JUPYTER NOTEBOOK"
   ]
  }
 ],
 "metadata": {
  "kernelspec": {
   "display_name": "Python 3 (ipykernel)",
   "language": "python",
   "name": "python3"
  },
  "language_info": {
   "codemirror_mode": {
    "name": "ipython",
    "version": 3
   },
   "file_extension": ".py",
   "mimetype": "text/x-python",
   "name": "python",
   "nbconvert_exporter": "python",
   "pygments_lexer": "ipython3",
   "version": "3.9.12"
  }
 },
 "nbformat": 4,
 "nbformat_minor": 5
}
