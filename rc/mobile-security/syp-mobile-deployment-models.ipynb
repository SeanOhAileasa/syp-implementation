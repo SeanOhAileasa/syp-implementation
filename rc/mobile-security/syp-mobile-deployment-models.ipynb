{
 "cells": [
  {
   "cell_type": "markdown",
   "id": "d4ee9e4b",
   "metadata": {},
   "source": [
    "***\n",
    "< [Home](https://github.com/SeanOhAileasa) | [README](https://github.com/SeanOhAileasa/syp-implementation/blob/main/README.md) >\n",
    "\n",
    "## CompTIA Security+ - Course Material 2022\n",
    "###### Topic: ``Mobile Deployment Models``\n",
    "***"
   ]
  },
  {
   "cell_type": "markdown",
   "id": "b82b07fb",
   "metadata": {},
   "source": [
    "Course material for the ``CompTIA Security+`` module of the ``ICT Associate Apprenticeship (Cybersecurity)`` programme."
   ]
  },
  {
   "cell_type": "markdown",
   "id": "e7228f57",
   "metadata": {},
   "source": [
    "<a id=\"top\"></a>\n",
    "***\n",
    "## Table of Contents\n",
    "***"
   ]
  },
  {
   "cell_type": "markdown",
   "id": "c2bb5e7b",
   "metadata": {},
   "source": [
    "### [Mobile Deployment Models](#a) <br/><br/>\n",
    "\n",
    "- [Bring Your Own Device](#b) <br/><br/>\n",
    "    - [``BYOD``](#b) <br/><br/>\n",
    "- [Corporate Owned Personally Enabled](#c) <br/><br/>\n",
    "    - [``COPE``](#c) <br/><br/>\n",
    "- [Choose Your Own Device](#d) <br/><br/>\n",
    "    - [``CYOD``](#d) <br/><br/>\n",
    "- [Corporate-owned](#e) <br/><br/>\n",
    "- [Virtual Desktop Infrastructure](#f) <br/><br/>\n",
    "    - [``VDI``](#f) <br/><br/>\n",
    "- [Virtual Mobile Infrastructure](#f) <br/><br/>\n",
    "    - [``VMI``](#f) \n",
    "<hr width=50%;>"
   ]
  },
  {
   "cell_type": "markdown",
   "id": "bf2b95e2",
   "metadata": {},
   "source": [
    "***\n",
    "## END"
   ]
  },
  {
   "cell_type": "markdown",
   "id": "34aa6eb5",
   "metadata": {},
   "source": [
    "< [Table of Contents](#top) | [References](#references) >\n",
    "<a id=\"a\"></a>\n",
    "***\n",
    "### Mobile Deployment Models\n",
    "***"
   ]
  },
  {
   "cell_type": "markdown",
   "id": "84b00380",
   "metadata": {},
   "source": [
    "< [Table of Contents](#top) | [References](#references) >\n",
    "<a id=\"b\"></a>\n",
    "***\n",
    "###### Bring Your Own Device - ``BYOD``\n",
    "***"
   ]
  },
  {
   "cell_type": "markdown",
   "id": "039feae6",
   "metadata": {},
   "source": [
    "This is when you are bringing your own personal smartphone or your own personal tablet to work, and we’re using that tablet for both personal use and for corporate use. \n",
    "\n",
    "There are obviously some security challenges with having a single device that stores both personal information and corporate information. The data that’s stored on this device needs to be protected not only for your personal data, but for your corporate data as well and there probably needs to be a way to differentiate between what is personal and what is corporate.\n",
    "\n",
    "Also have to think about the security when we sell our phone or trade in our phone for a newer model - this is something the security administrator usually manages through the use of an MDM, or a Mobile Device Manager."
   ]
  },
  {
   "cell_type": "markdown",
   "id": "b4da2efe",
   "metadata": {},
   "source": [
    "< [Table of Contents](#top) | [References](#references) >\n",
    "<a id=\"c\"></a>\n",
    "***\n",
    "###### Corporate Owned Personally Enabled - ``COPE``\n",
    "***"
   ]
  },
  {
   "cell_type": "markdown",
   "id": "1b7289c6",
   "metadata": {},
   "source": [
    "A similar deployment type is one called COPE - this is corporate owned but personally enabled. You’re still using the same single device for both corporate use and personal use, but instead of you purchasing a device and bringing it to work, your office is purchasing the device and letting you use it - this means you’ll use it as a corporate device and a personal device, but you only have to carry around one device.\n",
    "\n",
    "Since the smartphone or the tablet is owned by the company, they have full control of everything that goes onto this device - this is very similar to a laptop or a desktop that’s assigned to you by your company. \n",
    "\n",
    "These are usually administered from your mobile device manager, so everything on this device is controlled by the organization, and they can decide what information is stored on the device, and what information can be deleted."
   ]
  },
  {
   "cell_type": "markdown",
   "id": "7b10c3a2",
   "metadata": {},
   "source": [
    "< [Table of Contents](#top) | [References](#references) >\n",
    "<a id=\"d\"></a>\n",
    "***\n",
    "###### Choose Your Own Device - ``CYOD``\n",
    "***"
   ]
  },
  {
   "cell_type": "markdown",
   "id": "337e36fa",
   "metadata": {},
   "source": [
    "A similar deployment type to cope is the CYOD, or choose your own device - this is very similar to COPE where the organization chooses what device you’re going to carry around. With CYOD, you get to decide the device that you’re going to use, and then the organization purchases that device for you."
   ]
  },
  {
   "cell_type": "markdown",
   "id": "1ce9ff85",
   "metadata": {},
   "source": [
    "< [Table of Contents](#top) | [References](#references) >\n",
    "<a id=\"e\"></a>\n",
    "***\n",
    "###### Corporate-owned\n",
    "***"
   ]
  },
  {
   "cell_type": "markdown",
   "id": "56cb06c3",
   "metadata": {},
   "source": [
    "A single device could be used for personal use or for corporate use but there are times when you don’t want to have a single device used for both of those situations. \n",
    "\n",
    "One of these deployments would be something like a corporate owned deployment where the organization owns the device and you can’t use it for personal use - if you need your own smartphone for personal use, then you’ll need to purchase one yourself and carry around both your personal smartphone and your corporate owned smartphone. \n",
    "\n",
    "This is probably not the most common deployment type, but it might be the standard type used if your organization has a lot of data that they want to keep private, and they want to avoid having your personal data on these same devices."
   ]
  },
  {
   "cell_type": "markdown",
   "id": "d87809fd",
   "metadata": {},
   "source": [
    "< [Table of Contents](#top) | [References](#references) >\n",
    "<a id=\"f\"></a>\n",
    "***\n",
    "###### Virtual Desktop Infrastructure - ``VDI`` - Virtual Mobile Infrastructure - ``VMI``\n",
    "***"
   ]
  },
  {
   "cell_type": "markdown",
   "id": "39b5b61d",
   "metadata": {},
   "source": [
    "Another mobile deployment type separates the data from the device - this would be VDI or VMI - Virtual Desktop Infrastructure, or Virtual Mobile Infrastructure. \n",
    "\n",
    "With VDI and VMI, you can separate both your applications and the data from the mobile device and have all of that information stored somewhere else - this would keep all of the data and app stored external from your mobile device and you would simply access all of those applications and data using some type of remote access software.\n",
    "\n",
    "This means that all of your data is stored securely and separate from your mobile device, which means if you lose your mobile device, you’re not losing any of that data - can easily replace the mobile device and simply reconnect to that data store that’s located somewhere else. \n",
    "\n",
    "This model works very well for the application developer, because they can build an app based on a single type of platform - this would be the VDI or VMI platform.\n",
    "\n",
    "All of these devices that you’re using are simply connecting in usually through a remote desktop type of configuration and running the applications from there. \n",
    "\n",
    "This also makes it easier to manage the applications - don’t have to worry about deploying new apps to everyone’s mobile phone, instead, you would update a single application store at the VDI or VMI management server itself, and all of the devices connecting in are now using the new software."
   ]
  },
  {
   "cell_type": "markdown",
   "id": "2cc20932",
   "metadata": {},
   "source": [
    "***\n",
    "## END"
   ]
  },
  {
   "cell_type": "markdown",
   "id": "e0e42d51",
   "metadata": {},
   "source": [
    "< [Table of Contents](#top) >\n",
    "<a id=\"references\"></a>\n",
    "***\n",
    "## References\n",
    "***"
   ]
  },
  {
   "cell_type": "markdown",
   "id": "f8aaecbc",
   "metadata": {},
   "source": [
    "J. \"Professor\" Messer, \"CompTIA Security+ (SY0-601) Course Notes,\" [professormesser.com](https://web.archive.org/web/20220521181010/https://www.professormesser.com/security-plus/sy0-601/sy0-601-video/sy0-601-comptia-security-plus-course/), September 2021."
   ]
  },
  {
   "cell_type": "markdown",
   "id": "b33c372a",
   "metadata": {},
   "source": [
    "***\n",
    "## END"
   ]
  },
  {
   "cell_type": "markdown",
   "id": "e5961b4d",
   "metadata": {},
   "source": [
    "< [Table of Contents](#top) | [References](#references) >\n",
    "<a id=\"appendix\"></a>\n",
    "***\n",
    "## Appendix\n",
    "***"
   ]
  },
  {
   "cell_type": "markdown",
   "id": "00d82a82",
   "metadata": {},
   "source": [
    "***\n",
    "## END"
   ]
  },
  {
   "cell_type": "code",
   "execution_count": 1,
   "id": "706756a2",
   "metadata": {},
   "outputs": [
    {
     "name": "stderr",
     "output_type": "stream",
     "text": [
      "C:\\Users\\SeanOhAileasa\\AppData\\Local\\Temp\\ipykernel_14212\\1322614208.py:1: DeprecationWarning: Importing display from IPython.core.display is deprecated since IPython 7.14, please import from IPython display\n",
      "  from IPython.core.display import display,HTML\n"
     ]
    },
    {
     "data": {
      "text/html": [
       "<style>.container { width:100% !important; }</style>"
      ],
      "text/plain": [
       "<IPython.core.display.HTML object>"
      ]
     },
     "metadata": {},
     "output_type": "display_data"
    }
   ],
   "source": [
    "from IPython.core.display import display,HTML\n",
    "display(HTML(\"<style>.container { width:100% !important; }</style>\"))"
   ]
  },
  {
   "cell_type": "markdown",
   "id": "899c1783",
   "metadata": {},
   "source": [
    "# END JUPYTER NOTEBOOK"
   ]
  }
 ],
 "metadata": {
  "kernelspec": {
   "display_name": "Python 3 (ipykernel)",
   "language": "python",
   "name": "python3"
  },
  "language_info": {
   "codemirror_mode": {
    "name": "ipython",
    "version": 3
   },
   "file_extension": ".py",
   "mimetype": "text/x-python",
   "name": "python",
   "nbconvert_exporter": "python",
   "pygments_lexer": "ipython3",
   "version": "3.9.12"
  }
 },
 "nbformat": 4,
 "nbformat_minor": 5
}
