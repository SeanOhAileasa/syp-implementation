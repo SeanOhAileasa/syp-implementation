{
 "cells": [
  {
   "cell_type": "markdown",
   "id": "d4ee9e4b",
   "metadata": {},
   "source": [
    "***\n",
    "< [Home](https://github.com/SeanOhAileasa) | [README](https://github.com/SeanOhAileasa/syp-implementation/blob/main/README.md) >\n",
    "\n",
    "## CompTIA Security+ - Course Material 2022\n",
    "###### Topic: ``Wireless Cryptography``\n",
    "***"
   ]
  },
  {
   "cell_type": "markdown",
   "id": "b82b07fb",
   "metadata": {},
   "source": [
    "Course material for the ``CompTIA Security+`` module of the ``ICT Associate Apprenticeship (Cybersecurity)`` programme."
   ]
  },
  {
   "cell_type": "markdown",
   "id": "e7228f57",
   "metadata": {},
   "source": [
    "<a id=\"top\"></a>\n",
    "***\n",
    "## Table of Contents\n",
    "***"
   ]
  },
  {
   "cell_type": "markdown",
   "id": "c2bb5e7b",
   "metadata": {},
   "source": [
    "### [Wireless Cryptography](#a) <br/><br/>\n",
    "\n",
    "- [Securing Wireless Network](#b) <br/><br/>\n",
    "- [Wireless Encryption](#c) <br/><br/>\n",
    "- [Security Type - Wi-Fi Protected Access 2](#d) <br/><br/>\n",
    "    - [Wi-Fi Protected Access 2](#d) <br/><br/>\n",
    "        - [``WPA2``](#d) <br/><br/>\n",
    "            - [Encryption](#d) <br/><br/>\n",
    "                - [Cipher Block Chaining Message Authentication Code Protocol](#d) <br/><br/>\n",
    "                    - [``CCMP`` ](#d) <br/><br/>\n",
    "    - [Wi-Fi Protected Access 3](#e) <br/><br/>\n",
    "        - [``WPA3``](#e) <br/><br/>\n",
    "            - [Encryption](#e) <br/><br/>\n",
    "                - [Galois Counter Mode Protocol](#e) <br/><br/>\n",
    "                    - [``GCMP``](#e) <br/><br/>\n",
    "            - [Security Update](#f) <br/><br/>\n",
    "                - [``PSK``](#f) <br/><br/>\n",
    "                    - [Hash](#f) <br/><br/>\n",
    "                        - [Brute Force](#f) <br/><br/>\n",
    "                - [Session Keys](#g) <br/><br/>\n",
    "                    - [No Hash](#g) <br/><br/>\n",
    "                - [Simultaneous Authentication of Equals](#h) <br/><br/>\n",
    "                    - [``SAE``](#h)\n",
    "<hr width=50%;>"
   ]
  },
  {
   "cell_type": "markdown",
   "id": "bf2b95e2",
   "metadata": {},
   "source": [
    "***\n",
    "## END"
   ]
  },
  {
   "cell_type": "markdown",
   "id": "34aa6eb5",
   "metadata": {},
   "source": [
    "< [Table of Contents](#top) | [References](#references) >\n",
    "<a id=\"a\"></a>\n",
    "***\n",
    "### Wireless Cryptography\n",
    "***"
   ]
  },
  {
   "cell_type": "markdown",
   "id": "84b00380",
   "metadata": {},
   "source": [
    "< [Table of Contents](#top) | [References](#references) >\n",
    "<a id=\"b\"></a>\n",
    "***\n",
    "###### Securing Wireless Network\n",
    "***"
   ]
  },
  {
   "cell_type": "markdown",
   "id": "537acc79",
   "metadata": {},
   "source": [
    "When using wired networks, we don’t have to worry so much about other people listening in to what we’re doing but on wireless networks, anyone nearby is able to pull our traffic right out of the air and listen in to whatever it happens to be going across the network. That means we need additional security controls whenever we’re using these wireless networks. \n",
    "\n",
    "Before anyone can gain access to the wireless network they need to properly ``Authenticate``, and that authentication can take a number of different forms - that might be a username, a password, there might be multifactor authentication, you might be using 802.1X, or smartcards, or some other method to help authenticate a user on to that wireless network.\n",
    "\n",
    "Also want to be sure that all of the traffic that we’re sending across this wireless network is ``Encrypted`` - if someone was to grab this information out of the air and look into the data of the packets, they would have no idea the information that was being sent because everything is sent over an encrypted channel. \n",
    "\n",
    "It would be useful if there was ``Integrity`` built into the communication as well - that way we can be assured the information we’re receiving from a third party is the information that was originally sent, and we can be assured that nothing was changed along the way. Sometimes see this integrity check referred to as a ``Message Integrity Check`` (``MIC``). "
   ]
  },
  {
   "cell_type": "markdown",
   "id": "b4da2efe",
   "metadata": {},
   "source": [
    "< [Table of Contents](#top) | [References](#references) >\n",
    "<a id=\"c\"></a>\n",
    "***\n",
    "###### Wireless Encryption\n",
    "***"
   ]
  },
  {
   "cell_type": "markdown",
   "id": "79046c1d",
   "metadata": {},
   "source": [
    "We’ve relied on wireless encryption since the advent of ``802.11`` wireless networking. That’s because anyone who’s around can effectively hear all of the conversations occurring over the network, and if we were sending this information without any encryption, it would be very easy for an attacker to gather these packets and see exactly what was being sent back and forth.\n",
    "\n",
    "This means if you’re on a wireless network and you want that information to remain private, then you need to enable encryption on that wireless access point - this means that everyone using the network will have an encryption key that’s used to send and receive all of the data sent across this wireless network. \n",
    "\n",
    "If you don’t have the encryption key, then you won’t be able to understand any of the information that’s being sent between the stations on this wireless network, so if you’re using ``WPA2`` or ``WPA3`` encryption, then all of this information is protected over the wireless network."
   ]
  },
  {
   "cell_type": "markdown",
   "id": "7b10c3a2",
   "metadata": {},
   "source": [
    "< [Table of Contents](#top) | [References](#references) >\n",
    "<a id=\"d\"></a>\n",
    "***\n",
    "###### Security Type - Wi-Fi Protected Access 2 - ``WPA2`` - Encryption - Cipher Block Chaining Message Authentication Code Protocol - ``CCMP`` \n",
    "***"
   ]
  },
  {
   "cell_type": "markdown",
   "id": "f93b88a2",
   "metadata": {},
   "source": [
    "WPA2 is a security type on our wireless networks that’s been around for a very long time - this is called Wi-Fi Protected Access 2, or WPA2 and this began certification in 2004 - this uses an encryption called CCMP block cipher mode (Counter Mode with Cipher Block Chaining Message Authentication Code Protocol (``Counter/CBC-MAC protocol``). \n",
    "\n",
    "That’s a very long name that effectively means you’re using CCMP over WPA2. \n",
    "\n",
    "CCMP uses a number of different protocols to provide the security we need for our wireless networks, for example:\n",
    "\n",
    "> ``Confidentiality`` of the data is encrypting with the ``AES`` Protocol \n",
    "\n",
    "> ``Integrity`` used on the network, for the Message Integrity Check (``MIC``) uses ``CBC-MAC``"
   ]
  },
  {
   "cell_type": "markdown",
   "id": "1ce9ff85",
   "metadata": {},
   "source": [
    "< [Table of Contents](#top) | [References](#references) >\n",
    "<a id=\"e\"></a>\n",
    "***\n",
    "###### Security Type - Wi-Fi Protected Access 3 - ``WPA3`` - Encryption - Galois Counter Mode Protocol - ``GCMP``\n",
    "***"
   ]
  },
  {
   "cell_type": "markdown",
   "id": "11c3eed2",
   "metadata": {},
   "source": [
    "The update to WPA2 security is WPA3 - this is version 3 of the WPA protocol that was introduced in 2018. \n",
    "\n",
    "It changes the encryption just a bit. It uses a different block cipher mode called GCMP - this is your Galois Counter Mode Protocol and it is an update to the encryption method used with WPA2 in an effort to make this just a bit stronger encryption than the older WPA2 protocol. \n",
    "\n",
    "The methods used for encryption and integrity are similar in many ways to WPA2:\n",
    "\n",
    "> ``Confidentiality`` of the data still uses ``AES``\n",
    "\n",
    "> ``Integrity`` for the ``MIC`` changed to ``Galois message authentication code`` or ``GMAC``."
   ]
  },
  {
   "cell_type": "markdown",
   "id": "d87809fd",
   "metadata": {},
   "source": [
    "< [Table of Contents](#top) | [References](#references) >\n",
    "<a id=\"f\"></a>\n",
    "***\n",
    "###### Security Type - Wi-Fi Protected Access 3 - ``WPA3`` - Security Update - ``PSK`` - Hash - Brute Force\n",
    "***"
   ]
  },
  {
   "cell_type": "markdown",
   "id": "c38a7b1c",
   "metadata": {},
   "source": [
    "A significant security updates to WPA3 addressed a number of challenges with keeping WPA2 secure - one of these is the pre-shared key (``PSK``) issue associated with WPA2. \n",
    "\n",
    "Although the WPA2 protocol is not insecure, it still is subject to brute-force attacks if somebody has the hash that is used for the pre-shared key. Obtaining the hash then, is an important first step for an attacker if they’d like to perform a brute force attack to find that key. Obtaining the hash can be done with WPA2 by listening in on the four-way handshake that occurs initially when someone is connecting to the WPA2 network. \n",
    "\n",
    "There are a number of methods where an attacker could get their hands on this hash without actually listening to the handshake. \n",
    "\n",
    "Once attackers have captured that hash information, they can begin the brute-force process to try to determine what that pre-shared key might be.\n",
    "\n",
    "As security professionals, we know that as time goes on, it becomes easier and easier to perform a brute force on these keys. Part of the reason for that is that our graphical processing units, our GPUs, are primarily used for decryption and brute force functionality and those particular processes are becoming faster and faster. Also found ways to use the cloud in order to perform this password cracking, and we can use many hundreds or thousands of systems to be able to work on this brute force simultaneously. \n",
    "\n",
    "With all of that computing power behind you, it becomes easier and easier to perform the brute force and once you have found that ``PSK``, you now effectively have access to all of the data that was sent over that wireless communication."
   ]
  },
  {
   "cell_type": "markdown",
   "id": "47707114",
   "metadata": {},
   "source": [
    "< [Table of Contents](#top) | [References](#references) >\n",
    "<a id=\"g\"></a>\n",
    "***\n",
    "###### Security Type - Wi-Fi Protected Access 3 - ``WPA3`` - Security Update - Session Keys - No Hash\n",
    "***"
   ]
  },
  {
   "cell_type": "markdown",
   "id": "15f2b56b",
   "metadata": {},
   "source": [
    "With WPA3, we’ve changed the authentication process to avoid this hashing problem. Instead, we’ve added additional security features such as ``Mutual Authentication`` so that not only are you authenticating to the access point, the access point could also authenticate with you. \n",
    "\n",
    "Also changing the way the ``Key Exchange Operation``, instead of sending a hash over the network, we create a shared session key without having to send that key across the network. \n",
    "\n",
    "There’s no more handshaking, there’s no more hashes that are sent, and no one is able to gain access to the hash and then perform some type of brute force attack.\n",
    "\n",
    "Also have the advantage of ``Perfect Forward Secrecy`` in WPA3, which means that the session key that we’re using can change often, and everyone is using a different session key. \n",
    "\n",
    "Perfect Forward Secrecy, means that the session keys are created whenever we’re performing the sessions, and once the session is over, the key is thrown away, we use a completely different key if we start a new session. \n",
    "\n",
    "This means that WPA3 no longer has those problems associated with WPA2. We no longer have a hash, therefore we no longer have to worry about brute forces associated with these pre-shared keys."
   ]
  },
  {
   "cell_type": "markdown",
   "id": "9adeceaf",
   "metadata": {},
   "source": [
    "< [Table of Contents](#top) | [References](#references) >\n",
    "<a id=\"h\"></a>\n",
    "***\n",
    "###### Security Type - Wi-Fi Protected Access 3 - ``WPA3`` - Security Update - Simultaneous Authentication of Equals - ``SAE``\n",
    "***"
   ]
  },
  {
   "cell_type": "markdown",
   "id": "d51a8f72",
   "metadata": {},
   "source": [
    "> So how do we create a session key that’s used on both sides of the conversation without actually sending that session key across the network? \n",
    "\n",
    "To be able to do this, we use a method called Simultaneous Authentication of Equals (SAE). \n",
    "\n",
    "Familiar with Diffie-Hellman key exchange, you may find that SAE sounds a little familiar, that’s because it is derived from that Diffie-Hellman process. \n",
    "\n",
    "Added some additional capabilities though, that go a little bit farther than Diffie-Hellman so that we can add some authentication components to the conversation. \n",
    "\n",
    "Of course, everyone on the network is generating a different session key even if everybody is using exactly the same pre-shared key to connect to the wireless network - this was added to the IEEE 802.11 standard, and you’ll sometimes hear this key exchange process referred to as the ``Dragonfly Handshake``."
   ]
  },
  {
   "cell_type": "markdown",
   "id": "2cc20932",
   "metadata": {},
   "source": [
    "***\n",
    "## END"
   ]
  },
  {
   "cell_type": "markdown",
   "id": "e0e42d51",
   "metadata": {},
   "source": [
    "< [Table of Contents](#top) >\n",
    "<a id=\"references\"></a>\n",
    "***\n",
    "## References\n",
    "***"
   ]
  },
  {
   "cell_type": "markdown",
   "id": "f8aaecbc",
   "metadata": {},
   "source": [
    "J. \"Professor\" Messer, \"CompTIA Security+ (SY0-601) Course Notes,\" [professormesser.com](https://web.archive.org/web/20220521181010/https://www.professormesser.com/security-plus/sy0-601/sy0-601-video/sy0-601-comptia-security-plus-course/), September 2021."
   ]
  },
  {
   "cell_type": "markdown",
   "id": "b33c372a",
   "metadata": {},
   "source": [
    "***\n",
    "## END"
   ]
  },
  {
   "cell_type": "markdown",
   "id": "e5961b4d",
   "metadata": {},
   "source": [
    "< [Table of Contents](#top) | [References](#references) >\n",
    "<a id=\"appendix\"></a>\n",
    "***\n",
    "## Appendix\n",
    "***"
   ]
  },
  {
   "cell_type": "markdown",
   "id": "00d82a82",
   "metadata": {},
   "source": [
    "***\n",
    "## END"
   ]
  },
  {
   "cell_type": "code",
   "execution_count": 1,
   "id": "706756a2",
   "metadata": {},
   "outputs": [
    {
     "name": "stderr",
     "output_type": "stream",
     "text": [
      "C:\\Users\\SeanOhAileasa\\AppData\\Local\\Temp\\ipykernel_2672\\1322614208.py:1: DeprecationWarning: Importing display from IPython.core.display is deprecated since IPython 7.14, please import from IPython display\n",
      "  from IPython.core.display import display,HTML\n"
     ]
    },
    {
     "data": {
      "text/html": [
       "<style>.container { width:100% !important; }</style>"
      ],
      "text/plain": [
       "<IPython.core.display.HTML object>"
      ]
     },
     "metadata": {},
     "output_type": "display_data"
    }
   ],
   "source": [
    "from IPython.core.display import display,HTML\n",
    "display(HTML(\"<style>.container { width:100% !important; }</style>\"))"
   ]
  },
  {
   "cell_type": "markdown",
   "id": "899c1783",
   "metadata": {},
   "source": [
    "# END JUPYTER NOTEBOOK"
   ]
  }
 ],
 "metadata": {
  "kernelspec": {
   "display_name": "Python 3 (ipykernel)",
   "language": "python",
   "name": "python3"
  },
  "language_info": {
   "codemirror_mode": {
    "name": "ipython",
    "version": 3
   },
   "file_extension": ".py",
   "mimetype": "text/x-python",
   "name": "python",
   "nbconvert_exporter": "python",
   "pygments_lexer": "ipython3",
   "version": "3.9.12"
  }
 },
 "nbformat": 4,
 "nbformat_minor": 5
}
